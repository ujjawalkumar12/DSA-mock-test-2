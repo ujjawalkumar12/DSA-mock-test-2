{
 "cells": [
  {
   "cell_type": "markdown",
   "id": "56e9d962",
   "metadata": {},
   "source": [
    "q1 - Given a non-negative integer x, return the square root of x rounded down to the nearest integer. The returned integer should be non-negative as well. You must not use any built-in exponent function or operator. \n",
    "\n",
    " Example 1:\n",
    "Input: x = 4 Output: 2 Explanation: The square root of 4 is 2, so we return 2.\n",
    "Example 2:\n",
    "\n",
    "Input: x = 8 Output: 2 Explanation: The square root of 8 is 2.82842..., and since we round it down to the nearest integer, 2 is returned.\n",
    "Constraints:\n",
    "\n",
    "0 <= x <= 2^31 - 1"
   ]
  },
  {
   "cell_type": "markdown",
   "id": "476ca110",
   "metadata": {},
   "source": [
    "ans- To calculate the square root of a non-negative integer x rounded down to the nearest integer without using any built-in exponent function or operator, you can use a binary search approach. Here's an implementation in Python:\n",
    "\n",
    "python\n"
   ]
  },
  {
   "cell_type": "code",
   "execution_count": 1,
   "id": "c31c48f1",
   "metadata": {},
   "outputs": [],
   "source": [
    "def mySqrt(x):\n",
    "    if x == 0:\n",
    "        return 0\n",
    "\n",
    "    left, right = 1, x\n",
    "    while left <= right:\n",
    "        mid = (left + right) // 2\n",
    "        if mid * mid == x:\n",
    "            return mid\n",
    "        elif mid * mid > x:\n",
    "            right = mid - 1\n",
    "        else:\n",
    "            left = mid + 1\n",
    "\n",
    "    return right\n"
   ]
  },
  {
   "cell_type": "markdown",
   "id": "72bd768d",
   "metadata": {},
   "source": [
    "In this implementation, we perform a binary search in the range from 1 to x. We calculate the midpoint (mid) of the range and compare mid * mid with x. Based on the comparison, we update the left and right pointers accordingly, narrowing down the search range. The loop continues until left becomes greater than right.\n",
    "\n",
    "At the end of the loop, the right pointer will be pointing to the largest integer less than or equal to the square root of x. So, we return right as the rounded down square root.\n",
    "\n",
    "For example:\n",
    "\n",
    "mySqrt(4) will return 2 because the square root of 4 is 2.\n",
    "mySqrt(8) will return 2 because the square root of 8 is approximately 2.82842..., and rounding it down gives 2.\n",
    "The implementation handles the constraint 0 <= x <= 2^31 - 1 by performing the calculation within that range."
   ]
  }
 ],
 "metadata": {
  "kernelspec": {
   "display_name": "Python 3 (ipykernel)",
   "language": "python",
   "name": "python3"
  },
  "language_info": {
   "codemirror_mode": {
    "name": "ipython",
    "version": 3
   },
   "file_extension": ".py",
   "mimetype": "text/x-python",
   "name": "python",
   "nbconvert_exporter": "python",
   "pygments_lexer": "ipython3",
   "version": "3.9.12"
  }
 },
 "nbformat": 4,
 "nbformat_minor": 5
}
